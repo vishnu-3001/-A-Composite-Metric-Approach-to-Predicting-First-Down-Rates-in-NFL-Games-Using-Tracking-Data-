{
  "cells": [
    {
      "cell_type": "code",
      "execution_count": 82,
      "metadata": {
        "colab": {
          "base_uri": "https://localhost:8080/"
        },
        "id": "IcVV9Y4J1WX_",
        "outputId": "039f6138-0b8e-47d8-a295-34c1b39dd850"
      },
      "outputs": [
        {
          "output_type": "stream",
          "name": "stdout",
          "text": [
            "Drive already mounted at /content/drive; to attempt to forcibly remount, call drive.mount(\"/content/drive\", force_remount=True).\n"
          ]
        }
      ],
      "source": [
        "from google.colab import drive\n",
        "drive.mount('/content/drive')"
      ]
    },
    {
      "cell_type": "code",
      "execution_count": 83,
      "metadata": {
        "colab": {
          "base_uri": "https://localhost:8080/"
        },
        "id": "8tLolRke29UQ",
        "outputId": "00cdb382-e007-48c3-a218-0bc0a87ade5b"
      },
      "outputs": [
        {
          "output_type": "stream",
          "name": "stdout",
          "text": [
            "[Errno 2] No such file or directory: 'drive/MyDrive/DSF_Project_data/'\n",
            "/content/drive/MyDrive/DSF_Project_data\n"
          ]
        }
      ],
      "source": [
        "%cd drive/MyDrive/DSF_Project_data/"
      ]
    },
    {
      "cell_type": "code",
      "source": [
        "import warnings\n",
        "warnings.filterwarnings(\"ignore\")"
      ],
      "metadata": {
        "id": "2DYVDqN7dL1Q"
      },
      "execution_count": 84,
      "outputs": []
    },
    {
      "cell_type": "code",
      "execution_count": 85,
      "metadata": {
        "id": "BsTjof8k3Eqo"
      },
      "outputs": [],
      "source": [
        "import pandas as pd\n",
        "import numpy as np\n",
        "import matplotlib.pyplot as plt\n",
        "import seaborn as sns\n",
        "import gc\n",
        "from sklearn.preprocessing import LabelEncoder\n",
        "from sklearn.model_selection import train_test_split\n",
        "from sklearn.ensemble import RandomForestClassifier\n",
        "from sklearn.metrics import accuracy_score, classification_report,mean_absolute_error, mean_squared_error, r2_score,roc_auc_score\n",
        "from sklearn.metrics import confusion_matrix\n",
        "from sklearn.linear_model import LogisticRegression\n",
        "from sklearn.preprocessing import StandardScaler\n",
        "from sklearn.linear_model import LinearRegression\n",
        "from sklearn.ensemble import RandomForestRegressor"
      ]
    },
    {
      "cell_type": "code",
      "execution_count": 86,
      "metadata": {
        "id": "TzUMy26KVmkQ"
      },
      "outputs": [],
      "source": [
        "preProcessed_dfs=[]\n",
        "def preprocess_df(df):\n",
        "  pre_snap_data=df[df['frameType']=='BEFORE_SNAP']\n",
        "  selected_columns = pre_snap_data[['gameId', 'playId', 'x', 'y', 's', 'a', 'dis', 'o', 'dir','nflId']]\n",
        "  preProcessed_dfs.append(selected_columns)"
      ]
    },
    {
      "cell_type": "code",
      "execution_count": 87,
      "metadata": {
        "colab": {
          "base_uri": "https://localhost:8080/"
        },
        "id": "N0tdHFpUSO15",
        "outputId": "ede605ca-2ae2-49a0-91e1-abd20381e58c"
      },
      "outputs": [
        {
          "output_type": "execute_result",
          "data": {
            "text/plain": [
              "37678"
            ]
          },
          "metadata": {},
          "execution_count": 87
        }
      ],
      "source": [
        "week_1=pd.read_csv('tracking_week_1.csv')\n",
        "preprocess_df(week_1)\n",
        "del week_1\n",
        "gc.collect()"
      ]
    },
    {
      "cell_type": "code",
      "execution_count": 88,
      "metadata": {
        "colab": {
          "base_uri": "https://localhost:8080/"
        },
        "id": "a9aRGUjmXrZh",
        "outputId": "ea0f478f-b587-4795-8c18-e88cc4766856"
      },
      "outputs": [
        {
          "output_type": "execute_result",
          "data": {
            "text/plain": [
              "48290"
            ]
          },
          "metadata": {},
          "execution_count": 88
        }
      ],
      "source": [
        "week_2=pd.read_csv('tracking_week_2.csv')\n",
        "preprocess_df(week_2)\n",
        "del week_2\n",
        "gc.collect()"
      ]
    },
    {
      "cell_type": "code",
      "execution_count": 89,
      "metadata": {
        "colab": {
          "base_uri": "https://localhost:8080/"
        },
        "id": "ByLXqGH9X1v-",
        "outputId": "0edd5b3f-bac4-4cd1-e724-6859dd2bb316"
      },
      "outputs": [
        {
          "output_type": "execute_result",
          "data": {
            "text/plain": [
              "0"
            ]
          },
          "metadata": {},
          "execution_count": 89
        }
      ],
      "source": [
        "week_3=pd.read_csv('tracking_week_3.csv')\n",
        "preprocess_df(week_3)\n",
        "del week_3\n",
        "gc.collect()"
      ]
    },
    {
      "cell_type": "code",
      "execution_count": 90,
      "metadata": {
        "colab": {
          "base_uri": "https://localhost:8080/"
        },
        "id": "0bB5ZVPtX8G6",
        "outputId": "2adf79fe-8e10-43b5-eeed-bf8d9b4664da"
      },
      "outputs": [
        {
          "output_type": "execute_result",
          "data": {
            "text/plain": [
              "0"
            ]
          },
          "metadata": {},
          "execution_count": 90
        }
      ],
      "source": [
        "week_4=pd.read_csv('tracking_week_4.csv')\n",
        "preprocess_df(week_4)\n",
        "del week_4\n",
        "gc.collect()"
      ]
    },
    {
      "cell_type": "code",
      "execution_count": 91,
      "metadata": {
        "colab": {
          "base_uri": "https://localhost:8080/"
        },
        "id": "1618WCcdX_Dn",
        "outputId": "cd165c1d-5ab9-4ee5-c68a-a8229c426bde"
      },
      "outputs": [
        {
          "output_type": "execute_result",
          "data": {
            "text/plain": [
              "0"
            ]
          },
          "metadata": {},
          "execution_count": 91
        }
      ],
      "source": [
        "week_5=pd.read_csv('tracking_week_5.csv')\n",
        "preprocess_df(week_5)\n",
        "del week_5\n",
        "gc.collect()"
      ]
    },
    {
      "cell_type": "code",
      "execution_count": 92,
      "metadata": {
        "colab": {
          "base_uri": "https://localhost:8080/"
        },
        "id": "0q692qEeYCUL",
        "outputId": "4e84a04a-dddc-4a3f-f45d-573554ca4910"
      },
      "outputs": [
        {
          "output_type": "execute_result",
          "data": {
            "text/plain": [
              "0"
            ]
          },
          "metadata": {},
          "execution_count": 92
        }
      ],
      "source": [
        "week_6=pd.read_csv('tracking_week_6.csv')\n",
        "preprocess_df(week_6)\n",
        "del week_6\n",
        "gc.collect()"
      ]
    },
    {
      "cell_type": "code",
      "execution_count": 93,
      "metadata": {
        "colab": {
          "base_uri": "https://localhost:8080/"
        },
        "id": "PlxBlmMjYE4y",
        "outputId": "b65cfd1c-50c1-456a-c967-b94356e7af86"
      },
      "outputs": [
        {
          "output_type": "execute_result",
          "data": {
            "text/plain": [
              "0"
            ]
          },
          "metadata": {},
          "execution_count": 93
        }
      ],
      "source": [
        "week_7=pd.read_csv('tracking_week_7.csv')\n",
        "preprocess_df(week_7)\n",
        "del week_7\n",
        "gc.collect()"
      ]
    },
    {
      "cell_type": "code",
      "execution_count": 94,
      "metadata": {
        "id": "ZYhGBrPiYIXH",
        "colab": {
          "base_uri": "https://localhost:8080/"
        },
        "outputId": "90fdf6b6-88c3-4f7c-bbc0-a815857ca806"
      },
      "outputs": [
        {
          "output_type": "execute_result",
          "data": {
            "text/plain": [
              "0"
            ]
          },
          "metadata": {},
          "execution_count": 94
        }
      ],
      "source": [
        "week_8=pd.read_csv('tracking_week_8.csv')\n",
        "preprocess_df(week_8)\n",
        "del week_8\n",
        "gc.collect()"
      ]
    },
    {
      "cell_type": "code",
      "execution_count": 95,
      "metadata": {
        "id": "mGmwb14jYLyn",
        "colab": {
          "base_uri": "https://localhost:8080/"
        },
        "outputId": "543d2759-c6fb-43e6-beb0-50bca29c8594"
      },
      "outputs": [
        {
          "output_type": "execute_result",
          "data": {
            "text/plain": [
              "0"
            ]
          },
          "metadata": {},
          "execution_count": 95
        }
      ],
      "source": [
        "week_9=pd.read_csv('tracking_week_9.csv')\n",
        "preprocess_df(week_9)\n",
        "del week_9\n",
        "gc.collect()"
      ]
    },
    {
      "cell_type": "code",
      "execution_count": 96,
      "metadata": {
        "id": "xQeH6tbUYPJt"
      },
      "outputs": [],
      "source": [
        "combined_df = pd.concat(preProcessed_dfs, ignore_index=True)"
      ]
    },
    {
      "cell_type": "code",
      "execution_count": 97,
      "metadata": {
        "id": "H4xnw2k_cypZ",
        "colab": {
          "base_uri": "https://localhost:8080/"
        },
        "outputId": "4c22a617-ccb5-4483-e28c-2f381c9cd5a7"
      },
      "outputs": [
        {
          "output_type": "execute_result",
          "data": {
            "text/plain": [
              "0"
            ]
          },
          "metadata": {},
          "execution_count": 97
        }
      ],
      "source": [
        "del preProcessed_dfs\n",
        "gc.collect()"
      ]
    },
    {
      "cell_type": "code",
      "source": [
        "plays_data=pd.read_csv('plays.csv')\n",
        "player_play_data=pd.read_csv('player_play.csv')"
      ],
      "metadata": {
        "id": "VN2810Pr6R7w"
      },
      "execution_count": 98,
      "outputs": []
    },
    {
      "cell_type": "code",
      "source": [
        "df_1=plays_data[['passLength','down','playDescription','yardsToGo','quarter','absoluteYardlineNumber','playClockAtSnap','offenseFormation',\n",
        "                 'preSnapHomeScore','preSnapVisitorScore','homeTeamWinProbabilityAdded','isDropback','possessionTeam','defensiveTeam',\n",
        "                 'prePenaltyYardsGained',\n",
        "                 'preSnapHomeTeamWinProbability','preSnapVisitorTeamWinProbability','yardsGained','passResult','unblockedPressure','timeToThrow','expectedPointsAdded','gameId','playId']]\n",
        "df_2=player_play_data[['passingYards','hadDropback','rushingYards','hadRushAttempt','receivingYards','fumbles','wasTargettedReceiver','yardageGainedAfterTheCatch',\n",
        "                       'soloTackle','assistedTackle','tackleForALoss','quarterbackHit','sackYardsAsDefense','hadInterception','hadPassReception','nflId','gameId','playId',\n",
        "                       'causedPressure','forcedFumbleAsDefense','passDefensed','sackYardsAsOffense','halfSackYardsAsDefense']]"
      ],
      "metadata": {
        "id": "E7FlEirE7PTh"
      },
      "execution_count": 99,
      "outputs": []
    },
    {
      "cell_type": "code",
      "source": [
        "df_1.dropna(inplace=True)"
      ],
      "metadata": {
        "id": "VCphe4-9JWx7"
      },
      "execution_count": 100,
      "outputs": []
    },
    {
      "cell_type": "code",
      "source": [
        "features = [\n",
        "    'passLength', 'down', 'yardsToGo', 'quarter',\n",
        "    'absoluteYardlineNumber', 'playClockAtSnap', 'unblockedPressure'\n",
        "]\n",
        "df_1['completion'] = df_1['passResult'].apply(lambda x: 1 if x == 'C' else 0)\n",
        "X = df_1[features]\n",
        "y = df_1['completion']\n",
        "X.fillna(X.mean(), inplace=True)\n",
        "scaler = StandardScaler()\n",
        "X_scaled = scaler.fit_transform(X)\n",
        "X_train, X_test, y_train, y_test = train_test_split(X_scaled, y, test_size=0.2, random_state=42)\n",
        "model = LogisticRegression()\n",
        "model.fit(X_train, y_train)\n",
        "df_1['expectedCompletion'] = model.predict_proba(X_scaled)[:, 1]\n",
        "df_1['CPOE'] = df_1['completion'] - df_1['expectedCompletion']"
      ],
      "metadata": {
        "id": "_HunSG8dJkpd"
      },
      "execution_count": 101,
      "outputs": []
    },
    {
      "cell_type": "code",
      "source": [
        "merged_df=pd.merge(df_1,df_2,on=['gameId','playId'])"
      ],
      "metadata": {
        "id": "pH66cq8PKtE8"
      },
      "execution_count": 102,
      "outputs": []
    },
    {
      "cell_type": "code",
      "source": [
        "merged_df['YPA'] = merged_df.apply(lambda row: row['passingYards'] / row['hadDropback'] if row['hadDropback'] > 0 else 0, axis=1)\n",
        "merged_df['pressureOccurred'] = merged_df['unblockedPressure'].apply(lambda x: 1 if x else 0)\n",
        "total_plays = merged_df.shape[0]\n",
        "pressure_plays = merged_df['pressureOccurred'].sum()\n",
        "pressure_rate = pressure_plays / total_plays"
      ],
      "metadata": {
        "id": "Dij1Fg3pKvow"
      },
      "execution_count": 103,
      "outputs": []
    },
    {
      "cell_type": "code",
      "source": [
        "features = [\n",
        "    'passingYards', 'timeToThrow', 'unblockedPressure', 'hadDropback','CPOE','YPA','pressureOccurred','hadInterception'\n",
        "]\n",
        "target = 'expectedPointsAdded'"
      ],
      "metadata": {
        "id": "2poycO_WLLm5"
      },
      "execution_count": 104,
      "outputs": []
    },
    {
      "cell_type": "code",
      "source": [
        "X = merged_df[features]\n",
        "y = merged_df[target]\n",
        "X_train, X_test, y_train, y_test = train_test_split(X, y, test_size=0.2, random_state=42)\n",
        "scaler = StandardScaler()\n",
        "X_train_scaled = scaler.fit_transform(X_train)\n",
        "X_test_scaled = scaler.transform(X_test)\n",
        "model = LinearRegression()\n",
        "model.fit(X_train_scaled, y_train)\n",
        "feature_weights = pd.DataFrame({\n",
        "    'Feature': features,\n",
        "    'Weight': model.coef_\n",
        "}).sort_values(by='Weight', ascending=False)"
      ],
      "metadata": {
        "id": "LINvxUS9MBzv"
      },
      "execution_count": 105,
      "outputs": []
    },
    {
      "cell_type": "code",
      "source": [
        "merged_df['quarter_back_score'] = merged_df[features].apply(\n",
        "    lambda row: sum(row[feature] * weight for feature, weight in zip(features, model.coef_)), axis=1\n",
        ")"
      ],
      "metadata": {
        "id": "87HAZ-mJRH9B"
      },
      "execution_count": 106,
      "outputs": []
    },
    {
      "cell_type": "code",
      "source": [
        "merged_df['totalYards'] = merged_df['rushingYards'] + merged_df['receivingYards']\n",
        "merged_df['EPA'] = merged_df['expectedPointsAdded']\n",
        "merged_df['yardsAfterContactPerAttempt'] = merged_df.apply(\n",
        "    lambda row: row['yardageGainedAfterTheCatch'] / row['hadRushAttempt'] if row['hadRushAttempt'] > 0 else 0, axis=1\n",
        ")\n",
        "merged_df['touches'] = merged_df['hadRushAttempt'] + merged_df['hadPassReception']\n",
        "games_played = merged_df.groupby('nflId')['gameId'].nunique()\n",
        "merged_df = merged_df.merge(games_played, on='nflId', suffixes=('', '_totalGames'))\n",
        "merged_df['rushAttemptsPerGame'] = merged_df['hadRushAttempt'] / merged_df['gameId_totalGames']\n",
        "merged_df['receivingYardsPerGame'] = merged_df['receivingYards'] / merged_df['gameId_totalGames']"
      ],
      "metadata": {
        "id": "vYTKentsrz1v"
      },
      "execution_count": 107,
      "outputs": []
    },
    {
      "cell_type": "code",
      "source": [
        "target='totalYards'\n",
        "features=['EPA','yardsAfterContactPerAttempt','touches','rushAttemptsPerGame','receivingYardsPerGame']\n",
        "X = merged_df[features]\n",
        "y = merged_df[target]\n",
        "X_train, X_test, y_train, y_test = train_test_split(X, y, test_size=0.2, random_state=42)\n",
        "scaler = StandardScaler()\n",
        "X_train_scaled = scaler.fit_transform(X_train)\n",
        "X_test_scaled = scaler.transform(X_test)\n",
        "model = LinearRegression()\n",
        "model.fit(X_train_scaled, y_train)\n",
        "feature_weights = pd.DataFrame({\n",
        "    'Feature': features,\n",
        "    'Weight': model.coef_\n",
        "}).sort_values(by='Weight', ascending=False)"
      ],
      "metadata": {
        "id": "TAt_XM8GsoDz"
      },
      "execution_count": 108,
      "outputs": []
    },
    {
      "cell_type": "code",
      "source": [
        "merged_df['running_back_score'] = merged_df[features].apply(\n",
        "    lambda row: sum(row[feature] * weight for feature, weight in zip(features, model.coef_)), axis=1\n",
        ")"
      ],
      "metadata": {
        "id": "jrcST9UmtK9F"
      },
      "execution_count": 109,
      "outputs": []
    },
    {
      "cell_type": "code",
      "source": [
        "average_stats=combined_df.groupby('nflId').agg({'s':'mean','a':'mean'}).reset_index()\n",
        "average_stats.rename(columns={'s':'averageSpeed','a':'averageAcceleration'},inplace=True)"
      ],
      "metadata": {
        "id": "r2tj77BAOJXY"
      },
      "execution_count": 110,
      "outputs": []
    },
    {
      "cell_type": "code",
      "source": [
        "merged_df=pd.merge(merged_df,average_stats,on='nflId')"
      ],
      "metadata": {
        "id": "WgQrIKUTPHGh"
      },
      "execution_count": 111,
      "outputs": []
    },
    {
      "cell_type": "code",
      "source": [
        "del average_stats\n",
        "gc.collect()"
      ],
      "metadata": {
        "colab": {
          "base_uri": "https://localhost:8080/"
        },
        "id": "ASVW9GFIPPG8",
        "outputId": "c1dd3bf7-15de-4b5d-cc93-303afe6615af"
      },
      "execution_count": 112,
      "outputs": [
        {
          "output_type": "execute_result",
          "data": {
            "text/plain": [
              "0"
            ]
          },
          "metadata": {},
          "execution_count": 112
        }
      ]
    },
    {
      "cell_type": "code",
      "source": [
        "receiver_stats = merged_df.groupby('nflId').agg({\n",
        "    'hadPassReception': 'sum',\n",
        "    'wasTargettedReceiver': 'sum'\n",
        "}).reset_index()\n",
        "receiver_stats['catchRate'] = receiver_stats['hadPassReception'] / receiver_stats['wasTargettedReceiver']\n",
        "receiver_stats['catchRate'].fillna(0, inplace=True)"
      ],
      "metadata": {
        "id": "lxyRas9NSN54"
      },
      "execution_count": 113,
      "outputs": []
    },
    {
      "cell_type": "code",
      "source": [
        "receiver_stats=receiver_stats[['nflId','catchRate']]"
      ],
      "metadata": {
        "id": "-r1Z0wCUTCRR"
      },
      "execution_count": 114,
      "outputs": []
    },
    {
      "cell_type": "code",
      "source": [
        "merged_df=pd.merge(merged_df,receiver_stats,on='nflId')"
      ],
      "metadata": {
        "id": "Kbd43nwtSiqS"
      },
      "execution_count": 115,
      "outputs": []
    },
    {
      "cell_type": "code",
      "source": [
        "merged_df['yardsAfterCatch'] = merged_df['yardageGainedAfterTheCatch']\n",
        "merged_df['totalTouchdowns'] = merged_df['playDescription'].apply(lambda x: 1 if 'touchdown' in x.lower() else 0)"
      ],
      "metadata": {
        "id": "EVrt4NyPP5ZT"
      },
      "execution_count": 116,
      "outputs": []
    },
    {
      "cell_type": "code",
      "source": [
        "merged_df['speedAccelerationFactor'] = merged_df['averageSpeed'] * merged_df['averageAcceleration']"
      ],
      "metadata": {
        "id": "T-sGD1jAQYBF"
      },
      "execution_count": 117,
      "outputs": []
    },
    {
      "cell_type": "code",
      "source": [
        "target='receivingYards'\n",
        "features=['yardsAfterCatch','totalTouchdowns','speedAccelerationFactor','EPA','catchRate']\n",
        "X = merged_df[features]\n",
        "y = merged_df[target]\n",
        "X_train, X_test, y_train, y_test = train_test_split(X, y, test_size=0.2, random_state=42)\n",
        "scaler = StandardScaler()\n",
        "X_train_scaled = scaler.fit_transform(X_train)\n",
        "X_test_scaled = scaler.transform(X_test)\n",
        "model = LinearRegression()\n",
        "model.fit(X_train_scaled, y_train)\n",
        "feature_weights = pd.DataFrame({\n",
        "    'Feature': features,\n",
        "    'Weight': model.coef_\n",
        "}).sort_values(by='Weight', ascending=False)"
      ],
      "metadata": {
        "id": "56wqsmfcQhso"
      },
      "execution_count": 118,
      "outputs": []
    },
    {
      "cell_type": "code",
      "source": [
        "merged_df['wide_receiver_score']=merged_df[features].apply(\n",
        "    lambda row: sum(row[feature] * weight for feature, weight in zip(features, model.coef_)), axis=1\n",
        ")"
      ],
      "metadata": {
        "id": "eReuVBdyVBT_"
      },
      "execution_count": 119,
      "outputs": []
    },
    {
      "cell_type": "code",
      "source": [
        "merged_df['explosivenessScore']=merged_df['averageSpeed']*0.6+merged_df['averageAcceleration']*0.4"
      ],
      "metadata": {
        "id": "TVLEmti-XHp3"
      },
      "execution_count": 120,
      "outputs": []
    },
    {
      "cell_type": "code",
      "source": [
        "target='expectedPointsAdded'\n",
        "features=['receivingYardsPerGame','yardsAfterCatch','catchRate','touches','explosivenessScore']\n",
        "X = merged_df[features]\n",
        "y = merged_df[target]\n",
        "X_train, X_test, y_train, y_test = train_test_split(X, y, test_size=0.2, random_state=42)\n",
        "scaler = StandardScaler()\n",
        "X_train_scaled = scaler.fit_transform(X_train)\n",
        "X_test_scaled = scaler.transform(X_test)\n",
        "model = LinearRegression()\n",
        "model.fit(X_train_scaled, y_train)\n",
        "feature_weights = pd.DataFrame({\n",
        "    'Feature': features,\n",
        "    'Weight': model.coef_\n",
        "}).sort_values(by='Weight', ascending=False)\n",
        "merged_df['tight_end_score']=merged_df[features].apply(\n",
        "    lambda row: sum(row[feature] * weight for feature, weight in zip(features, model.coef_)), axis=1\n",
        ")"
      ],
      "metadata": {
        "id": "VGLh4kfyZsyo"
      },
      "execution_count": 121,
      "outputs": []
    },
    {
      "cell_type": "code",
      "source": [
        "merged_df['offense_score']=merged_df['quarter_back_score']+merged_df['running_back_score']+merged_df['wide_receiver_score']+merged_df['tight_end_score']"
      ],
      "metadata": {
        "id": "kdOywI_-b_yt"
      },
      "execution_count": 122,
      "outputs": []
    },
    {
      "cell_type": "code",
      "source": [
        "game_data=pd.read_csv('games.csv')"
      ],
      "metadata": {
        "id": "tQJohKu0TBbq"
      },
      "execution_count": 123,
      "outputs": []
    },
    {
      "cell_type": "code",
      "source": [
        "game_df=game_data[['gameId','homeFinalScore','visitorFinalScore']]\n",
        "merged_df=pd.merge(merged_df,game_df,on='gameId')"
      ],
      "metadata": {
        "id": "yLBZx9BkTEJX"
      },
      "execution_count": 124,
      "outputs": []
    },
    {
      "cell_type": "code",
      "source": [
        "data = merged_df\n",
        "features = [\n",
        "    'down',\n",
        "    'yardsToGo',\n",
        "    'quarter',\n",
        "    'playClockAtSnap',\n",
        "    'preSnapHomeScore',\n",
        "    'preSnapVisitorScore',\n",
        "]\n",
        "data['firstDown'] = data['yardsGained'] >= data['yardsToGo']\n",
        "data = data.dropna(subset=features + ['firstDown'])\n",
        "X = data[features]\n",
        "y = data['firstDown'].astype(int)\n",
        "scaler = StandardScaler()\n",
        "X_scaled = scaler.fit_transform(X)\n",
        "X_train, X_test, y_train, y_test = train_test_split(X_scaled, y, test_size=0.2, random_state=42)\n",
        "model = LogisticRegression()\n",
        "model.fit(X_train, y_train)\n",
        "y_pred = model.predict(X_test)\n",
        "y_pred_proba = model.predict_proba(X_test)[:, 1]\n",
        "accuracy = accuracy_score(y_test, y_pred)\n",
        "roc_auc = roc_auc_score(y_test, y_pred_proba)\n",
        "print(f\"Model Accuracy: {accuracy:.2f}\")\n",
        "print(f\"ROC AUC Score: {roc_auc:.2f}\")\n",
        "data['firstDownProbability'] = model.predict_proba(scaler.transform(X))[:, 1]"
      ],
      "metadata": {
        "colab": {
          "base_uri": "https://localhost:8080/"
        },
        "id": "S-8wndeiFvAc",
        "outputId": "f663b800-5db4-4893-e803-847f9481ef7d"
      },
      "execution_count": 127,
      "outputs": [
        {
          "output_type": "stream",
          "name": "stdout",
          "text": [
            "Model Accuracy: 0.67\n",
            "ROC AUC Score: 0.63\n"
          ]
        }
      ]
    },
    {
      "cell_type": "code",
      "source": [
        "data = merged_df\n",
        "features = [\n",
        "    'down',\n",
        "    'yardsToGo',\n",
        "    'quarter',\n",
        "    'playClockAtSnap',\n",
        "    'preSnapHomeScore',\n",
        "    'preSnapVisitorScore',\n",
        "    'offense_score'\n",
        "]\n",
        "data['firstDown'] = data['yardsGained'] >= data['yardsToGo']\n",
        "data = data.dropna(subset=features + ['firstDown'])\n",
        "X = data[features]\n",
        "y = data['firstDown'].astype(int)\n",
        "scaler = StandardScaler()\n",
        "X_scaled = scaler.fit_transform(X)\n",
        "X_train, X_test, y_train, y_test = train_test_split(X_scaled, y, test_size=0.2, random_state=42)\n",
        "nmodel = LogisticRegression()\n",
        "nmodel.fit(X_train, y_train)\n",
        "y_pred = nmodel.predict(X_test)\n",
        "y_pred_proba = nmodel.predict_proba(X_test)[:, 1]\n",
        "accuracy = accuracy_score(y_test, y_pred)\n",
        "roc_auc = roc_auc_score(y_test, y_pred_proba)\n",
        "print(f\"Model Accuracy: {accuracy:.2f}\")\n",
        "print(f\"ROC AUC Score: {roc_auc:.2f}\")\n",
        "data['firstDownProbability'] = nmodel.predict_proba(scaler.transform(X))[:, 1]"
      ],
      "metadata": {
        "colab": {
          "base_uri": "https://localhost:8080/"
        },
        "id": "Uc7qmJRv7cMa",
        "outputId": "84e8efc7-9724-46f4-df95-e624bd3c5db4"
      },
      "execution_count": 128,
      "outputs": [
        {
          "output_type": "stream",
          "name": "stdout",
          "text": [
            "Model Accuracy: 0.82\n",
            "ROC AUC Score: 0.92\n"
          ]
        }
      ]
    },
    {
      "cell_type": "code",
      "source": [
        "data = merged_df\n",
        "features = [\n",
        "    'down',\n",
        "    'yardsToGo',\n",
        "    'quarter',\n",
        "    'passingYards',\n",
        "    'CPOE',\n",
        "    'YPA',\n",
        "    'EPA',\n",
        "    'receivingYards',\n",
        "    'yardsAfterCatch',\n",
        "    'explosivenessScore',\n",
        "    'catchRate',\n",
        "    'receivingYardsPerGame',\n",
        "]\n",
        "data['firstDown'] = data['yardsGained'] >= data['yardsToGo']\n",
        "data = data.dropna(subset=features + ['firstDown'])\n",
        "X = data[features]\n",
        "y = data['firstDown'].astype(int)\n",
        "scaler = StandardScaler()\n",
        "X_scaled = scaler.fit_transform(X)\n",
        "X_train, X_test, y_train, y_test = train_test_split(X_scaled, y, test_size=0.2, random_state=42)\n",
        "nmodel = LogisticRegression()\n",
        "nmodel.fit(X_train, y_train)\n",
        "y_pred = nmodel.predict(X_test)\n",
        "y_pred_proba = nmodel.predict_proba(X_test)[:, 1]\n",
        "accuracy = accuracy_score(y_test, y_pred)\n",
        "roc_auc = roc_auc_score(y_test, y_pred_proba)\n",
        "print(f\"Model Accuracy: {accuracy:.2f}\")\n",
        "print(f\"ROC AUC Score: {roc_auc:.2f}\")\n",
        "data['firstDownProbability'] = nmodel.predict_proba(scaler.transform(X))[:, 1]"
      ],
      "metadata": {
        "colab": {
          "base_uri": "https://localhost:8080/"
        },
        "id": "kxWUhrcHRD9v",
        "outputId": "e9cd3770-bdea-4e3e-f122-bb35da3cf178"
      },
      "execution_count": 181,
      "outputs": [
        {
          "output_type": "stream",
          "name": "stdout",
          "text": [
            "Model Accuracy: 0.95\n",
            "ROC AUC Score: 0.99\n"
          ]
        }
      ]
    }
  ],
  "metadata": {
    "colab": {
      "provenance": []
    },
    "kernelspec": {
      "display_name": "Python 3",
      "name": "python3"
    },
    "language_info": {
      "name": "python"
    }
  },
  "nbformat": 4,
  "nbformat_minor": 0
}